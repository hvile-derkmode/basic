{
 "cells": [
  {
   "attachments": {},
   "cell_type": "markdown",
   "metadata": {},
   "source": [
    "基本的な使い方"
   ]
  },
  {
   "attachments": {},
   "cell_type": "markdown",
   "metadata": {},
   "source": [
    "文字列の出力"
   ]
  },
  {
   "cell_type": "code",
   "execution_count": 2,
   "metadata": {},
   "outputs": [
    {
     "name": "stdout",
     "output_type": "stream",
     "text": [
      "Hello World\n",
      "Hello World\n"
     ]
    }
   ],
   "source": [
    "print('Hello World')\n",
    "print(\"Hello World\")"
   ]
  },
  {
   "cell_type": "code",
   "execution_count": 3,
   "metadata": {},
   "outputs": [
    {
     "name": "stdout",
     "output_type": "stream",
     "text": [
      "Hello World\n"
     ]
    }
   ],
   "source": [
    "a = 'Hello World'\n",
    "print(a)\n"
   ]
  },
  {
   "attachments": {},
   "cell_type": "markdown",
   "metadata": {},
   "source": [
    "数値の出力"
   ]
  },
  {
   "cell_type": "code",
   "execution_count": 4,
   "metadata": {},
   "outputs": [
    {
     "name": "stdout",
     "output_type": "stream",
     "text": [
      "1234\n"
     ]
    }
   ],
   "source": [
    "a = 1234\n",
    "print(a)\n"
   ]
  },
  {
   "attachments": {},
   "cell_type": "markdown",
   "metadata": {},
   "source": [
    "list,tuple,dictの表示"
   ]
  },
  {
   "cell_type": "code",
   "execution_count": 5,
   "metadata": {},
   "outputs": [
    {
     "name": "stdout",
     "output_type": "stream",
     "text": [
      "[1, 2, 3]\n",
      "(1, 2, 3)\n",
      "{'a': 1, 'b': 2, 'c': 3}\n"
     ]
    }
   ],
   "source": [
    "#list\n",
    "list_a = [1,2,3]\n",
    "print(list_a)\n",
    "\n",
    "#tuple\n",
    "tuple_a = (1,2,3)\n",
    "print(tuple_a)\n",
    "\n",
    "#dict\n",
    "dict_a = {'a':1, 'b':2, 'c':3}\n",
    "print(dict_a)"
   ]
  },
  {
   "attachments": {},
   "cell_type": "markdown",
   "metadata": {},
   "source": [
    "文字のフォーマット"
   ]
  },
  {
   "attachments": {},
   "cell_type": "markdown",
   "metadata": {},
   "source": [
    "-フォーマットの種類"
   ]
  },
  {
   "cell_type": "code",
   "execution_count": 6,
   "metadata": {},
   "outputs": [
    {
     "name": "stdout",
     "output_type": "stream",
     "text": [
      "1+2=3\n"
     ]
    }
   ],
   "source": [
    "a = 1\n",
    "b = 2\n",
    "c = 3\n",
    "\n",
    "#%記法\n",
    "print('%d+%d=%d' % (a,b,c))"
   ]
  },
  {
   "attachments": {},
   "cell_type": "markdown",
   "metadata": {},
   "source": [
    "format"
   ]
  },
  {
   "cell_type": "code",
   "execution_count": 7,
   "metadata": {},
   "outputs": [
    {
     "name": "stdout",
     "output_type": "stream",
     "text": [
      "1+2 = 3\n",
      "1+2=3\n"
     ]
    }
   ],
   "source": [
    "print('{:d}+{:d} = {:d}'.format(a,b,c))\n",
    "#書式を省略\n",
    "print('{}+{}={}'.format(a,b,c))"
   ]
  },
  {
   "cell_type": "code",
   "execution_count": 8,
   "metadata": {},
   "outputs": [
    {
     "name": "stdout",
     "output_type": "stream",
     "text": [
      "1+2=3\n",
      "1+2=3\n"
     ]
    }
   ],
   "source": [
    "print(f'{a:b}+{b:d}={c:d}')\n",
    "# 書式を省略\n",
    "print(f'{a}+{b}={c}')"
   ]
  },
  {
   "attachments": {},
   "cell_type": "markdown",
   "metadata": {},
   "source": [
    "-書式の型の種類"
   ]
  },
  {
   "cell_type": "code",
   "execution_count": 10,
   "metadata": {},
   "outputs": [
    {
     "name": "stdout",
     "output_type": "stream",
     "text": [
      "2進数:1010\n",
      "8進数:12\n",
      "10進数:10\n",
      "16進数:a\n",
      "少数:1.234000\n",
      "指数標記小数点:1.234000e+00\n",
      "こんにちは\n"
     ]
    }
   ],
   "source": [
    "num = 10\n",
    "print(f'2進数:{num:b}')\n",
    "print(f'8進数:{num:o}')\n",
    "print(f'10進数:{num:d}')\n",
    "print(f'16進数:{num:x}')\n",
    "\n",
    "num=1.234\n",
    "print(f'少数:{num:f}')\n",
    "print(f'指数標記小数点:{num:e}')\n",
    "\n",
    "moji = 'こんにちは'\n",
    "print(f'{moji:s}')\n"
   ]
  },
  {
   "attachments": {},
   "cell_type": "markdown",
   "metadata": {},
   "source": [
    "-色々な書式 整数"
   ]
  },
  {
   "cell_type": "code",
   "execution_count": 11,
   "metadata": {},
   "outputs": [
    {
     "name": "stdout",
     "output_type": "stream",
     "text": [
      "５文字:     3\n",
      "----ゼロ埋め-----\n",
      "ゼロ埋め:00003\n",
      "右寄せ: 30000\n",
      "中央寄せ: 00300\n",
      "左寄せ: 00003\n",
      "----ゼロ埋めなし-----\n",
      "右寄せ: 3    \n",
      "中央寄せ:  3  \n",
      "左寄せ:     3\n"
     ]
    }
   ],
   "source": [
    "num = 3\n",
    "# 5文字にして表示\n",
    "print(f'５文字: {num:5d}')\n",
    "print('----ゼロ埋め-----')\n",
    "print(f'ゼロ埋め:{num:05d}')\n",
    "print(f'右寄せ: {num:<05d}')\n",
    "print(f'中央寄せ: {num:^05d}')\n",
    "print(f'左寄せ: {num:>05d}')\n",
    "# ゼロ埋めなしでもOK\n",
    "print('----ゼロ埋めなし-----')\n",
    "print(f'右寄せ: {num:<5d}')\n",
    "print(f'中央寄せ:{num:^5d}')\n",
    "print(f'左寄せ: {num:>5d}')\n"
   ]
  },
  {
   "attachments": {},
   "cell_type": "markdown",
   "metadata": {},
   "source": [
    "-色々な書式 少数"
   ]
  },
  {
   "cell_type": "code",
   "execution_count": 12,
   "metadata": {},
   "outputs": [
    {
     "name": "stdout",
     "output_type": "stream",
     "text": [
      "01.23\n",
      "1.234000\n"
     ]
    }
   ],
   "source": [
    "num = 1.234\n",
    "print(f'{num:05.2f}')\n",
    "print(f'{num:2f}')"
   ]
  },
  {
   "attachments": {},
   "cell_type": "markdown",
   "metadata": {},
   "source": [
    "応用した使い方"
   ]
  },
  {
   "attachments": {},
   "cell_type": "markdown",
   "metadata": {},
   "source": [
    "区切り文字"
   ]
  },
  {
   "cell_type": "code",
   "execution_count": 13,
   "metadata": {},
   "outputs": [
    {
     "name": "stdout",
     "output_type": "stream",
     "text": [
      "Hello world 2023\n",
      "Hello!! world!! 2023\n"
     ]
    }
   ],
   "source": [
    "print('Hello', 'world', '2023')\n",
    "print('Hello', 'world', '2023', sep='!! ')"
   ]
  },
  {
   "attachments": {},
   "cell_type": "markdown",
   "metadata": {},
   "source": [
    "改行なし"
   ]
  },
  {
   "cell_type": "code",
   "execution_count": 15,
   "metadata": {},
   "outputs": [
    {
     "name": "stdout",
     "output_type": "stream",
     "text": [
      "Hello world 2023"
     ]
    }
   ],
   "source": [
    "print('Hello ', end='')\n",
    "print('world ', end='')\n",
    "print('2023', end='')"
   ]
  },
  {
   "attachments": {},
   "cell_type": "markdown",
   "metadata": {},
   "source": [
    "上書きして表示"
   ]
  },
  {
   "cell_type": "code",
   "execution_count": 16,
   "metadata": {},
   "outputs": [
    {
     "name": "stdout",
     "output_type": "stream",
     "text": [
      "1/5\n",
      "2/5\n",
      "3/5\n",
      "4/5\n",
      "5/5\n"
     ]
    }
   ],
   "source": [
    "import time\n",
    "for i in range(5):\n",
    "    time.sleep(1)\n",
    "    print(f'{i+1}/5')"
   ]
  },
  {
   "cell_type": "code",
   "execution_count": 17,
   "metadata": {},
   "outputs": [
    {
     "name": "stdout",
     "output_type": "stream",
     "text": [
      "5/5"
     ]
    }
   ],
   "source": [
    "import time\n",
    "for i in range(5):\n",
    "    time.sleep(1)\n",
    "    print(f'\\r{i+1}/5', end='')"
   ]
  },
  {
   "attachments": {},
   "cell_type": "markdown",
   "metadata": {},
   "source": [
    "ファイル出力"
   ]
  },
  {
   "cell_type": "code",
   "execution_count": 18,
   "metadata": {},
   "outputs": [],
   "source": [
    "with open('print_test.txt', mode='w') as f:\n",
    "    print('Hello world', file=f)"
   ]
  }
 ],
 "metadata": {
  "kernelspec": {
   "display_name": "py-ten",
   "language": "python",
   "name": "python3"
  },
  "language_info": {
   "codemirror_mode": {
    "name": "ipython",
    "version": 3
   },
   "file_extension": ".py",
   "mimetype": "text/x-python",
   "name": "python",
   "nbconvert_exporter": "python",
   "pygments_lexer": "ipython3",
   "version": "3.10.10"
  },
  "orig_nbformat": 4
 },
 "nbformat": 4,
 "nbformat_minor": 2
}
