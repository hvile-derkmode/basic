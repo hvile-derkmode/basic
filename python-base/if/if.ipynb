{
 "cells": [
  {
   "attachments": {},
   "cell_type": "markdown",
   "metadata": {},
   "source": [
    "条件分岐 if文について書き方、使い方を<br>\n",
    "マスターする"
   ]
  },
  {
   "cell_type": "code",
   "execution_count": 10,
   "metadata": {},
   "outputs": [
    {
     "name": "stdout",
     "output_type": "stream",
     "text": [
      "Trueの時\n"
     ]
    }
   ],
   "source": [
    "#処理される\n",
    "if True:\n",
    "    print('Trueの時')\n",
    "\n",
    "#処理されない\n",
    "if False:\n",
    "    print('Flaseの時')"
   ]
  },
  {
   "attachments": {},
   "cell_type": "markdown",
   "metadata": {},
   "source": [
    "比較演算子"
   ]
  },
  {
   "cell_type": "code",
   "execution_count": 11,
   "metadata": {},
   "outputs": [
    {
     "name": "stdout",
     "output_type": "stream",
     "text": [
      "aは10です\n",
      "aは以外です\n"
     ]
    }
   ],
   "source": [
    "a = 10\n",
    "if a == 10:\n",
    "    print('aは10です')\n",
    "if a!= 1:\n",
    "    print('aは以外です')"
   ]
  },
  {
   "attachments": {},
   "cell_type": "markdown",
   "metadata": {},
   "source": [
    "条件のところを見ることができます"
   ]
  },
  {
   "cell_type": "code",
   "execution_count": 12,
   "metadata": {},
   "outputs": [
    {
     "name": "stdout",
     "output_type": "stream",
     "text": [
      "True\n"
     ]
    }
   ],
   "source": [
    "print(a==10)"
   ]
  },
  {
   "cell_type": "code",
   "execution_count": 13,
   "metadata": {},
   "outputs": [],
   "source": [
    "a = [10]\n",
    "b = [10]\n",
    "if a is b:\n",
    "    print('aとbは一緒です')"
   ]
  },
  {
   "cell_type": "code",
   "execution_count": 14,
   "metadata": {},
   "outputs": [
    {
     "name": "stdout",
     "output_type": "stream",
     "text": [
      "aとbは一緒です\n"
     ]
    }
   ],
   "source": [
    "a = [10]\n",
    "b = a\n",
    "if a is b:\n",
    "    print('aとbは一緒です')"
   ]
  },
  {
   "attachments": {},
   "cell_type": "markdown",
   "metadata": {},
   "source": [
    "基本的な書き方"
   ]
  },
  {
   "attachments": {},
   "cell_type": "markdown",
   "metadata": {},
   "source": [
    "if 条件のみの記述"
   ]
  },
  {
   "cell_type": "code",
   "execution_count": 15,
   "metadata": {},
   "outputs": [
    {
     "name": "stdout",
     "output_type": "stream",
     "text": [
      "aは10未満\n"
     ]
    }
   ],
   "source": [
    "a = 5\n",
    "if a<10:\n",
    "    print('aは10未満')"
   ]
  },
  {
   "attachments": {},
   "cell_type": "markdown",
   "metadata": {},
   "source": [
    "if 条件 elseの記述"
   ]
  },
  {
   "cell_type": "code",
   "execution_count": 16,
   "metadata": {},
   "outputs": [
    {
     "name": "stdout",
     "output_type": "stream",
     "text": [
      "aは10以上\n"
     ]
    }
   ],
   "source": [
    "# if else\n",
    "a = 11\n",
    "if a<10:\n",
    "    print('aは10未満')\n",
    "else:\n",
    "    print('aは10以上')"
   ]
  },
  {
   "attachments": {},
   "cell_type": "markdown",
   "metadata": {},
   "source": [
    "if 条件 elif 条件 ... elseの記述"
   ]
  },
  {
   "cell_type": "code",
   "execution_count": 17,
   "metadata": {},
   "outputs": [
    {
     "name": "stdout",
     "output_type": "stream",
     "text": [
      "aは10未満\n"
     ]
    }
   ],
   "source": [
    "a = 5\n",
    "if a<10:\n",
    "    print('aは10未満')\n",
    "elif a>=10:\n",
    "    print('aは10以上')\n",
    "else:\n",
    "    print('どちらとも該当されない')"
   ]
  },
  {
   "attachments": {},
   "cell_type": "markdown",
   "metadata": {},
   "source": [
    "注意! 2つの条件をみる場合はif文を二つ書きましょう"
   ]
  },
  {
   "cell_type": "code",
   "execution_count": 18,
   "metadata": {},
   "outputs": [
    {
     "name": "stdout",
     "output_type": "stream",
     "text": [
      "aは10未満\n",
      "bは10未満\n"
     ]
    }
   ],
   "source": [
    "a = 5\n",
    "b = 5\n",
    "if a<10:\n",
    "    print('aは10未満')\n",
    "if b<10:\n",
    "    print('bは10未満')"
   ]
  },
  {
   "attachments": {},
   "cell_type": "markdown",
   "metadata": {},
   "source": [
    "ifの入れ子"
   ]
  },
  {
   "cell_type": "code",
   "execution_count": 19,
   "metadata": {},
   "outputs": [
    {
     "name": "stdout",
     "output_type": "stream",
     "text": [
      "aは10未満で、bも10未満\n"
     ]
    }
   ],
   "source": [
    "a = 5\n",
    "b = 5\n",
    "if a<10:\n",
    "    if b<10:\n",
    "        print('aは10未満で、bも10未満')"
   ]
  },
  {
   "attachments": {},
   "cell_type": "markdown",
   "metadata": {},
   "source": [
    "条件を複数使う"
   ]
  },
  {
   "cell_type": "code",
   "execution_count": 20,
   "metadata": {},
   "outputs": [
    {
     "name": "stdout",
     "output_type": "stream",
     "text": [
      "aは10未満で、bも10未満\n"
     ]
    }
   ],
   "source": [
    "a = 5\n",
    "b = 5\n",
    "if(a<10) and (b<10):\n",
    "    print('aは10未満で、bも10未満')"
   ]
  },
  {
   "cell_type": "code",
   "execution_count": 21,
   "metadata": {},
   "outputs": [
    {
     "name": "stdout",
     "output_type": "stream",
     "text": [
      "aは11以上, 20未満\n"
     ]
    }
   ],
   "source": [
    "a = 11\n",
    "if a<10:\n",
    "    print('aは10未満')\n",
    "elif (a>=10) and (a<20):\n",
    "    print('aは11以上, 20未満')\n",
    "elif (a>=20) and (a<30):\n",
    "    print('aは20以上, 30未満')\n",
    "else:\n",
    "    print('aは30以上')"
   ]
  },
  {
   "attachments": {},
   "cell_type": "markdown",
   "metadata": {},
   "source": [
    "比較演算子の省略"
   ]
  },
  {
   "attachments": {},
   "cell_type": "markdown",
   "metadata": {},
   "source": [
    "数値の例"
   ]
  },
  {
   "cell_type": "code",
   "execution_count": 22,
   "metadata": {},
   "outputs": [
    {
     "name": "stdout",
     "output_type": "stream",
     "text": [
      "aは0です。\n"
     ]
    }
   ],
   "source": [
    "a = 0\n",
    "if a:\n",
    "    print('aは0ではありません')\n",
    "else:\n",
    "    print('aは0です。')"
   ]
  },
  {
   "attachments": {},
   "cell_type": "markdown",
   "metadata": {},
   "source": [
    "listの例"
   ]
  },
  {
   "cell_type": "code",
   "execution_count": 23,
   "metadata": {},
   "outputs": [
    {
     "name": "stdout",
     "output_type": "stream",
     "text": [
      "6\n"
     ]
    }
   ],
   "source": [
    "list_data = [1,2,3]\n",
    "if list_data:\n",
    "    print(sum(list_data))\n",
    "else:\n",
    "    print('データ読み込まれていません')"
   ]
  },
  {
   "attachments": {},
   "cell_type": "markdown",
   "metadata": {},
   "source": [
    "1行での記述"
   ]
  },
  {
   "attachments": {},
   "cell_type": "markdown",
   "metadata": {},
   "source": [
    "普通の場合"
   ]
  },
  {
   "cell_type": "code",
   "execution_count": 24,
   "metadata": {},
   "outputs": [
    {
     "name": "stdout",
     "output_type": "stream",
     "text": [
      "陽性\n"
     ]
    }
   ],
   "source": [
    "a = 0.7\n",
    "result = ''\n",
    "if a > 0.5:\n",
    "    result = '陽性'\n",
    "else:\n",
    "    result = '陰性'\n",
    "print(result)"
   ]
  },
  {
   "attachments": {},
   "cell_type": "markdown",
   "metadata": {},
   "source": [
    "1行の場合"
   ]
  },
  {
   "cell_type": "code",
   "execution_count": 25,
   "metadata": {},
   "outputs": [
    {
     "name": "stdout",
     "output_type": "stream",
     "text": [
      "陽性\n"
     ]
    }
   ],
   "source": [
    "a = 0.7\n",
    "result = '陽性' if a > 0.5 else '陰性'\n",
    "print(result)"
   ]
  },
  {
   "attachments": {},
   "cell_type": "markdown",
   "metadata": {},
   "source": [
    "passの使い方"
   ]
  },
  {
   "attachments": {},
   "cell_type": "markdown",
   "metadata": {},
   "source": [
    "if文の条件の処理は省略したい場合はpassを使う必要があります"
   ]
  },
  {
   "cell_type": "code",
   "execution_count": 26,
   "metadata": {},
   "outputs": [
    {
     "name": "stdout",
     "output_type": "stream",
     "text": [
      "陽性\n"
     ]
    }
   ],
   "source": [
    "a = 0.7\n",
    "result = ''\n",
    "if a > 0.5:\n",
    "    result = '陽性'\n",
    "else:\n",
    "    #処理検討中\n",
    "    pass\n",
    "print(result)"
   ]
  },
  {
   "attachments": {},
   "cell_type": "markdown",
   "metadata": {},
   "source": [
    "文字列やlist,tuple"
   ]
  },
  {
   "cell_type": "code",
   "execution_count": 27,
   "metadata": {},
   "outputs": [
    {
     "name": "stdout",
     "output_type": "stream",
     "text": [
      "りんごを含む\n"
     ]
    }
   ],
   "source": [
    "a = 'りんごが食べたい'\n",
    "if 'りんご' in a:\n",
    "    print('りんごを含む')\n",
    "if 'みかん' in a:\n",
    "    print('みかんを含む')"
   ]
  },
  {
   "cell_type": "code",
   "execution_count": 28,
   "metadata": {},
   "outputs": [
    {
     "name": "stdout",
     "output_type": "stream",
     "text": [
      "りんごを含む\n"
     ]
    }
   ],
   "source": [
    "a = ['りんご', 'みかん', 'ぶどう']\n",
    "if 'りんご' in a:\n",
    "    print('りんごを含む')\n",
    "if 'スイカ' in a:\n",
    "    print('スイカを含む')\n",
    "    "
   ]
  },
  {
   "attachments": {},
   "cell_type": "markdown",
   "metadata": {},
   "source": [
    "関数"
   ]
  },
  {
   "cell_type": "code",
   "execution_count": 9,
   "metadata": {},
   "outputs": [
    {
     "name": "stdout",
     "output_type": "stream",
     "text": [
      "陽性\n"
     ]
    }
   ],
   "source": [
    "def judge(value):\n",
    "    if a > 0.5:\n",
    "        return True\n",
    "    else:\n",
    "        return False\n",
    "    \n",
    "a = 0.7\n",
    "result = ''\n",
    "if judge(a):\n",
    "    result = '陽性'\n",
    "else:\n",
    "    result = '陰性'\n",
    "print(result)"
   ]
  }
 ],
 "metadata": {
  "kernelspec": {
   "display_name": "py-ten",
   "language": "python",
   "name": "python3"
  },
  "language_info": {
   "codemirror_mode": {
    "name": "ipython",
    "version": 3
   },
   "file_extension": ".py",
   "mimetype": "text/x-python",
   "name": "python",
   "nbconvert_exporter": "python",
   "pygments_lexer": "ipython3",
   "version": "3.10.10"
  },
  "orig_nbformat": 4
 },
 "nbformat": 4,
 "nbformat_minor": 2
}
