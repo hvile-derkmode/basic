{
 "cells": [
  {
   "attachments": {},
   "cell_type": "markdown",
   "metadata": {},
   "source": [
    "numpy使ったコード"
   ]
  },
  {
   "cell_type": "code",
   "execution_count": 1,
   "metadata": {},
   "outputs": [
    {
     "name": "stdout",
     "output_type": "stream",
     "text": [
      "[[2. 5. 8.]\n",
      " [1. 3. 6.]\n",
      " [7. 9. 4.]]\n"
     ]
    }
   ],
   "source": [
    "import numpy as np\n",
    "\n",
    "# 行列Aの定義\n",
    "matA = np.array([[2.0,5.0, 8.0],\n",
    "                 [1.0,3.0, 6.0],\n",
    "                 [7.0,9.0, 4.0]])\n",
    "# 行列Aの表示\n",
    "print(matA)"
   ]
  },
  {
   "attachments": {},
   "cell_type": "markdown",
   "metadata": {},
   "source": [
    "行列のスカラー倍 [mat* スカラー値]"
   ]
  },
  {
   "cell_type": "code",
   "execution_count": 2,
   "metadata": {},
   "outputs": [
    {
     "name": "stdout",
     "output_type": "stream",
     "text": [
      "[[10. 25. 40.]\n",
      " [ 5. 15. 30.]\n",
      " [35. 45. 20.]]\n"
     ]
    }
   ],
   "source": [
    "import numpy as np\n",
    "\n",
    "# 行列Aの定義\n",
    "matA = np.array([[2.0, 5.0, 8.0],\n",
    "                 [1.0, 3.0, 6.0],\n",
    "                 [7.0, 9.0, 4.0]])\n",
    "# 行列Aのスカラー倍の計算\n",
    "matAns = matA * 5 #　5倍\n",
    "\n",
    "# 計算結果の表示\n",
    "print(matAns)"
   ]
  },
  {
   "attachments": {},
   "cell_type": "markdown",
   "metadata": {},
   "source": [
    "行列のべき乗[mat ** スカラー値]"
   ]
  },
  {
   "cell_type": "code",
   "execution_count": 4,
   "metadata": {},
   "outputs": [
    {
     "name": "stdout",
     "output_type": "stream",
     "text": [
      "[[ 4. 25. 64.]\n",
      " [ 1.  9. 36.]\n",
      " [49. 81. 16.]]\n"
     ]
    }
   ],
   "source": [
    "import numpy as np\n",
    "\n",
    "# 行列Aの定義\n",
    "matA = np.array([[2.0, 5.0, 8.0],\n",
    "                 [1.0, 3.0, 6.0],\n",
    "                 [7.0, 9.0, 4.0]])\n",
    "\n",
    "# 行列Aのべき乗の計算\n",
    "matAns = matA ** 2 # 2乗\n",
    "\n",
    "# 計算結果の表示\n",
    "print(matAns)"
   ]
  },
  {
   "attachments": {},
   "cell_type": "markdown",
   "metadata": {},
   "source": [
    "行列の積[matA @ matB]"
   ]
  },
  {
   "cell_type": "code",
   "execution_count": 5,
   "metadata": {},
   "outputs": [
    {
     "name": "stdout",
     "output_type": "stream",
     "text": [
      "[[ 84.  61.  74.]\n",
      " [ 57.  43.  47.]\n",
      " [109.  61. 119.]]\n"
     ]
    }
   ],
   "source": [
    "import numpy as np\n",
    "\n",
    "# 行列Aの定義\n",
    "matA = np.array([[2.0, 5.0, 8.0],\n",
    "                 [1.0, 3.0, 6.0],\n",
    "                 [7.0, 9.0, 4.0]])\n",
    "\n",
    "# 行列Bの定義\n",
    "matB = np.array([[9.0, 4.0, 5.0],\n",
    "                 [2.0, 1.0, 8.0],\n",
    "                 [7.0, 6.0, 3.0]])\n",
    "\n",
    "# 行列Aと行列Bの積の計算\n",
    "matAns = matA @ matB\n",
    "\n",
    "# 計算結果の表示\n",
    "print(matAns)"
   ]
  },
  {
   "attachments": {},
   "cell_type": "markdown",
   "metadata": {},
   "source": [
    "転置行列[mat.T]"
   ]
  },
  {
   "cell_type": "code",
   "execution_count": 6,
   "metadata": {},
   "outputs": [
    {
     "name": "stdout",
     "output_type": "stream",
     "text": [
      "[[2. 1. 7.]\n",
      " [5. 3. 9.]\n",
      " [8. 6. 4.]]\n"
     ]
    }
   ],
   "source": [
    "import numpy as np\n",
    "\n",
    "# 行列Aの定義\n",
    "matA = np.array([[2.0, 5.0, 8.0],\n",
    "                 [1.0, 3.0, 6.0],\n",
    "                 [7.0, 9.0, 4.0]])\n",
    "# 行列Aの転置行列を求める\n",
    "matAns = matA.T\n",
    "\n",
    "# 行列Aの転置行列の表示\n",
    "print(matAns)"
   ]
  },
  {
   "attachments": {},
   "cell_type": "markdown",
   "metadata": {},
   "source": [
    "行列式[numpy.linalg.det()]"
   ]
  },
  {
   "cell_type": "code",
   "execution_count": 9,
   "metadata": {},
   "outputs": [
    {
     "name": "stdout",
     "output_type": "stream",
     "text": [
      "9.999999999999993\n"
     ]
    }
   ],
   "source": [
    "import numpy as np\n",
    "\n",
    "# 行列Aの定義\n",
    "matA = np.array([[2.0, 5.0, 8.0],\n",
    "                 [1.0, 3.0, 6.0],\n",
    "                 [7.0, 9.0, 4.0]])\n",
    "# 行列Aの行列式det(A)の計算\n",
    "detA = np.linalg.det(matA)\n",
    "\n",
    "# 計算結果の表示\n",
    "print(detA)"
   ]
  },
  {
   "attachments": {},
   "cell_type": "markdown",
   "metadata": {},
   "source": [
    "逆行列[numpy.linalg.inv()]"
   ]
  },
  {
   "cell_type": "code",
   "execution_count": 1,
   "metadata": {},
   "outputs": [
    {
     "name": "stdout",
     "output_type": "stream",
     "text": [
      "逆行列 = \n",
      "[[-4.2  5.2  0.6]\n",
      " [ 3.8 -4.8 -0.4]\n",
      " [-1.2  1.7  0.1]]\n",
      "\n",
      "行列Aとその逆行列の積 = \n",
      "[[ 1.00000000e+00 -1.77635684e-15 -3.33066907e-16]\n",
      " [ 0.00000000e+00  1.00000000e+00 -1.38777878e-16]\n",
      " [ 1.77635684e-15  8.88178420e-16  1.00000000e+00]]\n"
     ]
    }
   ],
   "source": [
    "import numpy as np\n",
    "\n",
    "# 行列Aの定義\n",
    "matA = np.array([[2.0, 5.0, 8.0],\n",
    "                 [1.0, 3.0, 6.0],\n",
    "                 [7.0, 9.0, 4.0]])\n",
    "# 行列Aの逆行列invAの計算\n",
    "invA = np.linalg.inv(matA)\n",
    "\n",
    "# 逆行列invAの表示\n",
    "print(\"逆行列 = \")\n",
    "print(invA)\n",
    "print()\n",
    "\n",
    "# 行列とその逆行列の積は単位行列Iとなる\n",
    "ideMat = matA @ invA\n",
    "\n",
    "# 行列Aとその逆行列の積の表示\n",
    "print(\"行列Aとその逆行列の積 = \")\n",
    "print(ideMat)"
   ]
  },
  {
   "attachments": {},
   "cell_type": "markdown",
   "metadata": {},
   "source": [
    "*単位行列Iの対角成分以外が完全に0となっていませんが、演算過程での桁落ちや情報落ちが原因であると考えられます\n",
    "\n",
    "逆行列はその性質上、行列式0となる場合は逆行列は存在しません。\n",
    "\n",
    "逆行列が存在しない行列の逆行列を求めよとすると例外[numpy.linalg.LinAlgError]が返されるようです。"
   ]
  },
  {
   "attachments": {},
   "cell_type": "markdown",
   "metadata": {},
   "source": [
    "固有値と固有ベクトル[numpy.linalg.eig()]"
   ]
  },
  {
   "cell_type": "code",
   "execution_count": 11,
   "metadata": {},
   "outputs": [
    {
     "name": "stdout",
     "output_type": "stream",
     "text": [
      "固有値 =\n",
      "[14.9841486  -0.11368296 -5.87046564]\n",
      "\n",
      "固有ベクトル =\n",
      "[[-0.58749204 -0.71750212 -0.4756348 ]\n",
      " [-0.4009467   0.65993343 -0.45542063]\n",
      " [-0.7029188  -0.22288689  0.75257131]]\n"
     ]
    }
   ],
   "source": [
    "import numpy as np\n",
    "\n",
    "# 行列Aの定義\n",
    "matA = np.array([[2.0, 5.0, 8.0],\n",
    "                 [1.0, 3.0, 6.0],\n",
    "                 [7.0, 9.0, 4.0]])\n",
    "\n",
    "# 行列Aの固有値(eigval)と固有ベクトル(eigvec)の計算\n",
    "eigval, eigvec = np.linalg.eig(matA)\n",
    "\n",
    "# 計算結果の表示\n",
    "print(\"固有値 =\")\n",
    "print(eigval)\n",
    "print()\n",
    "print(\"固有ベクトル =\")\n",
    "print(eigvec)"
   ]
  }
 ],
 "metadata": {
  "kernelspec": {
   "display_name": "py-ten",
   "language": "python",
   "name": "python3"
  },
  "language_info": {
   "codemirror_mode": {
    "name": "ipython",
    "version": 3
   },
   "file_extension": ".py",
   "mimetype": "text/x-python",
   "name": "python",
   "nbconvert_exporter": "python",
   "pygments_lexer": "ipython3",
   "version": "3.10.10"
  },
  "orig_nbformat": 4
 },
 "nbformat": 4,
 "nbformat_minor": 2
}
