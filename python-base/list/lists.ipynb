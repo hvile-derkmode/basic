{
 "cells": [
  {
   "attachments": {},
   "cell_type": "markdown",
   "metadata": {},
   "source": [
    "内包標記"
   ]
  },
  {
   "attachments": {},
   "cell_type": "markdown",
   "metadata": {},
   "source": [
    "list基本的な書き方"
   ]
  },
  {
   "cell_type": "code",
   "execution_count": 1,
   "metadata": {},
   "outputs": [
    {
     "name": "stdout",
     "output_type": "stream",
     "text": [
      "[0, 1, 2, 3, 4]\n"
     ]
    }
   ],
   "source": [
    "num_list = []\n",
    "for i in range(5):\n",
    "    num_list.append(i)\n",
    "print(num_list)"
   ]
  },
  {
   "attachments": {},
   "cell_type": "markdown",
   "metadata": {},
   "source": [
    "上記の内包標記"
   ]
  },
  {
   "cell_type": "code",
   "execution_count": 2,
   "metadata": {},
   "outputs": [
    {
     "name": "stdout",
     "output_type": "stream",
     "text": [
      "[0, 1, 2, 3, 4]\n"
     ]
    }
   ],
   "source": [
    "num_list = [i for i in range(5)]\n",
    "print(num_list)"
   ]
  },
  {
   "cell_type": "code",
   "execution_count": 6,
   "metadata": {},
   "outputs": [
    {
     "name": "stdout",
     "output_type": "stream",
     "text": [
      "[0.9560342718892494, 0.9478274870593494, 0.05655136772680869, 0.08487199515892163, 0.8354988781294496]\n"
     ]
    }
   ],
   "source": [
    "import random\n",
    "random.seed(2)\n",
    "num_list = [random.random() for i in range(5)]\n",
    "print(num_list)"
   ]
  },
  {
   "attachments": {},
   "cell_type": "markdown",
   "metadata": {},
   "source": [
    "ifを使う場合"
   ]
  },
  {
   "cell_type": "code",
   "execution_count": 8,
   "metadata": {},
   "outputs": [
    {
     "name": "stdout",
     "output_type": "stream",
     "text": [
      "[0.9560342718892494, 0.9478274870593494, 0.8354988781294496]\n"
     ]
    }
   ],
   "source": [
    "num_list2 = []\n",
    "for i in num_list:\n",
    "    if i>0.5:\n",
    "        num_list2.append(i)\n",
    "print(num_list2)"
   ]
  },
  {
   "attachments": {},
   "cell_type": "markdown",
   "metadata": {},
   "source": [
    "上記の内包表記"
   ]
  },
  {
   "cell_type": "code",
   "execution_count": 7,
   "metadata": {},
   "outputs": [
    {
     "name": "stdout",
     "output_type": "stream",
     "text": [
      "[0.9560342718892494, 0.9478274870593494, 0.8354988781294496]\n"
     ]
    }
   ],
   "source": [
    "num_list2 = [i for i in num_list if i>0.5]\n",
    "print(num_list2)"
   ]
  },
  {
   "attachments": {},
   "cell_type": "markdown",
   "metadata": {},
   "source": [
    "if elseを使う場合"
   ]
  },
  {
   "cell_type": "code",
   "execution_count": 9,
   "metadata": {},
   "outputs": [
    {
     "name": "stdout",
     "output_type": "stream",
     "text": [
      "[0.9560342718892494, 0.9478274870593494, -0.05655136772680869, -0.08487199515892163, 0.8354988781294496]\n"
     ]
    }
   ],
   "source": [
    "num_list2 = []\n",
    "for i in num_list:\n",
    "    if i>0.5:\n",
    "        num_list2.append(i)\n",
    "    else:\n",
    "        num_list2.append(-i)\n",
    "print(num_list2)"
   ]
  },
  {
   "attachments": {},
   "cell_type": "markdown",
   "metadata": {},
   "source": [
    "上記の内包表記"
   ]
  },
  {
   "cell_type": "code",
   "execution_count": 10,
   "metadata": {},
   "outputs": [
    {
     "name": "stdout",
     "output_type": "stream",
     "text": [
      "[0.9560342718892494, 0.9478274870593494, -0.05655136772680869, -0.08487199515892163, 0.8354988781294496]\n"
     ]
    }
   ],
   "source": [
    "num_list2 = [i if i>0.5 else -i for i in num_list]\n",
    "print(num_list2)"
   ]
  },
  {
   "attachments": {},
   "cell_type": "markdown",
   "metadata": {},
   "source": [
    "関数を使う場合"
   ]
  },
  {
   "cell_type": "code",
   "execution_count": 11,
   "metadata": {},
   "outputs": [],
   "source": [
    "# 5x1000000のデータを作成\n",
    "import numpy as np\n",
    "np.random.seed(5)\n",
    "num_list = np.random.rand(1000000,5).tolist()"
   ]
  },
  {
   "cell_type": "code",
   "execution_count": 15,
   "metadata": {},
   "outputs": [],
   "source": [
    "# max minを返す関数\n",
    "def calc_max_min(data):\n",
    "    return[max(data),min(data)]"
   ]
  },
  {
   "cell_type": "code",
   "execution_count": 13,
   "metadata": {},
   "outputs": [
    {
     "name": "stdout",
     "output_type": "stream",
     "text": [
      "元データ [0.22199317108973948, 0.8707323061773764, 0.20671915533942642, 0.9186109079379216, 0.48841118879482914]\n",
      "処理後 [0.9186109079379216, 0.20671915533942642]\n"
     ]
    }
   ],
   "source": [
    "num_list2 = []\n",
    "for d in num_list:\n",
    "    num_list2.append(calc_max_min(d))\n",
    "print('元データ', num_list[0])\n",
    "print('処理後', num_list2[0])"
   ]
  },
  {
   "cell_type": "code",
   "execution_count": 14,
   "metadata": {},
   "outputs": [
    {
     "name": "stdout",
     "output_type": "stream",
     "text": [
      "元データ [0.22199317108973948, 0.8707323061773764, 0.20671915533942642, 0.9186109079379216, 0.48841118879482914]\n",
      "処理後 [0.9186109079379216, 0.20671915533942642]\n"
     ]
    }
   ],
   "source": [
    "num_list2 = [calc_max_min(d) for d in num_list]\n",
    "print('元データ', num_list[0])\n",
    "print('処理後', num_list2[0])"
   ]
  }
 ],
 "metadata": {
  "kernelspec": {
   "display_name": "py-ten",
   "language": "python",
   "name": "python3"
  },
  "language_info": {
   "codemirror_mode": {
    "name": "ipython",
    "version": 3
   },
   "file_extension": ".py",
   "mimetype": "text/x-python",
   "name": "python",
   "nbconvert_exporter": "python",
   "pygments_lexer": "ipython3",
   "version": "3.10.10"
  },
  "orig_nbformat": 4
 },
 "nbformat": 4,
 "nbformat_minor": 2
}
